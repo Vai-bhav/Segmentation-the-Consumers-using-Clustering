{
 "cells": [
  {
   "cell_type": "markdown",
   "metadata": {},
   "source": [
    "# Importing Libraries"
   ]
  },
  {
   "cell_type": "code",
   "execution_count": null,
   "metadata": {},
   "outputs": [],
   "source": [
    "import pandas as pd\n",
    "import matplotlib.pyplot as plt\n",
    "import numpy as np\n",
    "import seaborn as sns\n",
    "from sklearn.cluster import KMeans"
   ]
  },
  {
   "cell_type": "code",
   "execution_count": null,
   "metadata": {},
   "outputs": [],
   "source": [
    "#importing the dataset\n",
    "dataset=pd.read_csv('Mall_Customers.csv')"
   ]
  },
  {
   "cell_type": "markdown",
   "metadata": {},
   "source": [
    "# Data Visualization"
   ]
  },
  {
   "cell_type": "code",
   "execution_count": null,
   "metadata": {},
   "outputs": [],
   "source": [
    "dataset.head()"
   ]
  },
  {
   "cell_type": "code",
   "execution_count": null,
   "metadata": {},
   "outputs": [],
   "source": [
    "dataset.shape"
   ]
  },
  {
   "cell_type": "code",
   "execution_count": null,
   "metadata": {},
   "outputs": [],
   "source": [
    "dataset.info()"
   ]
  },
  {
   "cell_type": "code",
   "execution_count": null,
   "metadata": {},
   "outputs": [],
   "source": [
    "dataset.describe()"
   ]
  },
  {
   "cell_type": "code",
   "execution_count": null,
   "metadata": {},
   "outputs": [],
   "source": [
    "dataset.dtypes"
   ]
  },
  {
   "cell_type": "code",
   "execution_count": null,
   "metadata": {},
   "outputs": [],
   "source": [
    "dataset.columns"
   ]
  },
  {
   "cell_type": "code",
   "execution_count": null,
   "metadata": {},
   "outputs": [],
   "source": [
    "dataset.rename(columns={'Annual Income (k$)':'AnnualIncome','Spending Score (1-100)':'SpendingScore'},inplace=True)"
   ]
  },
  {
   "cell_type": "code",
   "execution_count": null,
   "metadata": {},
   "outputs": [],
   "source": [
    "dataset.head()"
   ]
  },
  {
   "cell_type": "code",
   "execution_count": null,
   "metadata": {},
   "outputs": [],
   "source": [
    "dataset.isnull().sum()"
   ]
  },
  {
   "cell_type": "code",
   "execution_count": null,
   "metadata": {},
   "outputs": [],
   "source": [
    "dataset.corr()"
   ]
  },
  {
   "cell_type": "code",
   "execution_count": null,
   "metadata": {},
   "outputs": [],
   "source": [
    "sns.heatmap(dataset.corr(),annot=True,fmt='.1f')\n",
    "plt.show()"
   ]
  },
  {
   "cell_type": "code",
   "execution_count": null,
   "metadata": {},
   "outputs": [],
   "source": [
    "dataset.drop('CustomerID',axis=1,inplace=True)"
   ]
  },
  {
   "cell_type": "code",
   "execution_count": null,
   "metadata": {},
   "outputs": [],
   "source": [
    "dataset.head()"
   ]
  },
  {
   "cell_type": "code",
   "execution_count": null,
   "metadata": {},
   "outputs": [],
   "source": [
    "dataset.shape"
   ]
  },
  {
   "cell_type": "code",
   "execution_count": null,
   "metadata": {},
   "outputs": [],
   "source": [
    "dataset['Gender'].value_counts()"
   ]
  },
  {
   "cell_type": "code",
   "execution_count": null,
   "metadata": {},
   "outputs": [],
   "source": [
    "sns.countplot(dataset['Gender'])\n",
    "plt.title('Gender')\n",
    "plt.show()"
   ]
  },
  {
   "cell_type": "code",
   "execution_count": null,
   "metadata": {},
   "outputs": [],
   "source": [
    "dataset['Age'].unique()"
   ]
  },
  {
   "cell_type": "code",
   "execution_count": null,
   "metadata": {},
   "outputs": [],
   "source": [
    "labels=dataset['Gender'].unique()\n",
    "explode=[0.1,0]\n",
    "values=dataset['Gender'].value_counts().values\n",
    "plt.figure(figsize=(7,8))\n",
    "plt.pie(values,explode=explode,labels=labels,autopct='%1.1f%%')\n",
    "plt.title('Gender Count in Percentage')\n",
    "plt.show()"
   ]
  },
  {
   "cell_type": "code",
   "execution_count": null,
   "metadata": {},
   "outputs": [],
   "source": [
    "plt.figure(figsize=(25,10))\n",
    "sns.barplot(x = \"AnnualIncome\", y = \"SpendingScore\", hue = \"Gender\", data = dataset)\n",
    "plt.xticks(rotation=45)\n",
    "plt.show()"
   ]
  },
  {
   "cell_type": "code",
   "execution_count": null,
   "metadata": {},
   "outputs": [],
   "source": [
    "dataset.hist(figsize=(18,12))\n",
    "plt.title('All Data Show Histogram System')\n",
    "plt.show()"
   ]
  },
  {
   "cell_type": "code",
   "execution_count": null,
   "metadata": {},
   "outputs": [],
   "source": [
    "plt.figure(figsize=(15,7))\n",
    "sns.barplot(x=dataset['Age'].value_counts().index,y=dataset['Age'].value_counts().values)\n",
    "plt.xlabel('Age')\n",
    "plt.ylabel('Rate')\n",
    "plt.title('Age vs Rate State')\n",
    "plt.show()"
   ]
  },
  {
   "cell_type": "code",
   "execution_count": null,
   "metadata": {},
   "outputs": [],
   "source": [
    "#implementing the k-means clustering algorithm\n",
    "class K_means:\n",
    "    def __init__(self, k=3, tol=0.001, max_iter=300):\n",
    "        self.k = k\n",
    "        self.tol = tol\n",
    "        self.max_iter = max_iter\n",
    "    \n",
    "    def fit(self,dataset):\n",
    "        self.centroids={}\n",
    "        for i in range(self.k):\n",
    "            self.centroids[i] = dataset[i]\n",
    "            \n",
    "        for i in range(self.max_iter):\n",
    "            self.classes={}\n",
    "            for i in range(self.k):\n",
    "                self.classes[i]=[]\n",
    "            for features in dataset:\n",
    "                distances=[np.linalg.norm(features-self.centroids[centroid]) for centroid in self.centroids]\n",
    "                classification=distances.index(min(distances))\n",
    "                self.classes[classification].append(features)\n",
    "            \n",
    "            previous=dict(self.centroids)\n",
    "            \n",
    "            for classification in self.classes:\n",
    "                self.centroids[classification]=np.average(self.classes[classification],axis=0)\n",
    "            \n",
    "            isOptimal=True\n",
    "            \n",
    "            for centroid in self.centroids:\n",
    "                original_centroid=previous[centroid]\n",
    "                curr=self.centroids[centroid]\n",
    "                if np.sum((curr - original_centroid)/original_centroid * 100.0) > self.tol:\n",
    "                    isOptimal = False\n",
    "        \n",
    "            if(isOptimal):\n",
    "                break\n",
    "    \n",
    "    def predict(self,data):\n",
    "        distances=[np.linalg.norm(features-self.centroid[centroid]) for centroid in self.centroids]\n",
    "        classification=distances.index(min(distances))\n",
    "        return classification"
   ]
  },
  {
   "cell_type": "code",
   "execution_count": null,
   "metadata": {},
   "outputs": [],
   "source": [
    "#initializing\n",
    "km=K_means(5)"
   ]
  },
  {
   "cell_type": "code",
   "execution_count": null,
   "metadata": {},
   "outputs": [],
   "source": [
    "#fitting the data\n",
    "km.fit(dataset.iloc[:,1:].values)"
   ]
  },
  {
   "cell_type": "code",
   "execution_count": null,
   "metadata": {},
   "outputs": [],
   "source": [
    "colors = 10*[\"r\", \"g\", \"c\", \"b\", \"k\"]"
   ]
  },
  {
   "cell_type": "code",
   "execution_count": null,
   "metadata": {},
   "outputs": [],
   "source": [
    "for centroid in km.centroids:\n",
    "    plt.scatter(km.centroids[centroid][0], km.centroids[centroid][1], s = 130, marker = \"x\")"
   ]
  },
  {
   "cell_type": "code",
   "execution_count": null,
   "metadata": {},
   "outputs": [],
   "source": [
    "for classification in km.classes:\n",
    "    color = colors[classification]\n",
    "    for features in km.classes[classification]:\n",
    "        plt.scatter(features[0], features[1], color = color,s = 30)\n",
    "plt.show()"
   ]
  },
  {
   "cell_type": "code",
   "execution_count": null,
   "metadata": {},
   "outputs": [],
   "source": []
  },
  {
   "cell_type": "code",
   "execution_count": null,
   "metadata": {},
   "outputs": [],
   "source": [
    "#getting the optimal value of K using elbow method\n",
    "wcss=[]\n",
    "for i in range(1,11):\n",
    "    km=KMeans(n_clusters=i)\n",
    "    km.fit(dataset.iloc[:,1:].values)\n",
    "    wcss.append(km.inertia_)\n",
    "\n",
    "plt.figure(figsize=(15,7))\n",
    "plt.grid()\n",
    "plt.plot(range(1,11),wcss)\n",
    "plt.xlabel(\"K Value\")\n",
    "plt.xticks(np.arange(1,11,1))\n",
    "plt.ylabel(\"WCSS\")\n",
    "plt.show()"
   ]
  },
  {
   "cell_type": "code",
   "execution_count": null,
   "metadata": {},
   "outputs": [],
   "source": [
    "#using the traditionl k-means clustering of scikit learn\n",
    "kmeans=KMeans(n_clusters=5)\n",
    "clusters = kmeans.fit(dataset.iloc[:,1:].values)\n",
    "dataset[\"label\"] = clusters"
   ]
  },
  {
   "cell_type": "code",
   "execution_count": null,
   "metadata": {},
   "outputs": [],
   "source": [
    "#ploting the centroid of clusters\n",
    "kmeans.cluster_centers_"
   ]
  },
  {
   "cell_type": "code",
   "execution_count": null,
   "metadata": {},
   "outputs": [],
   "source": [
    "#plotting the result\n",
    "plt.scatter(45.2173913 , 26.30434783, 20.91304348, c='r')\n",
    "plt.scatter(42.9375, 55.0875, 49.7125, c='g')\n",
    "plt.scatter(40.66666667, 87.75, 17.58333333, c='c')\n",
    "plt.scatter(5.27272727, 25.72727273, 79.36363636, c='b')\n",
    "plt.scatter(32.69230769, 86.53846154, 82.12820513, c='k')"
   ]
  },
  {
   "cell_type": "code",
   "execution_count": null,
   "metadata": {},
   "outputs": [],
   "source": []
  }
 ],
 "metadata": {
  "kernelspec": {
   "display_name": "Python 3",
   "language": "python",
   "name": "python3"
  },
  "language_info": {
   "codemirror_mode": {
    "name": "ipython",
    "version": 3
   },
   "file_extension": ".py",
   "mimetype": "text/x-python",
   "name": "python",
   "nbconvert_exporter": "python",
   "pygments_lexer": "ipython3",
   "version": "3.7.3"
  }
 },
 "nbformat": 4,
 "nbformat_minor": 2
}
